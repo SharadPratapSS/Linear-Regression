{
 "cells": [
  {
   "cell_type": "markdown",
   "id": "b69ed301",
   "metadata": {},
   "source": [
    "### 1. Load a dataset, split it into training and testing sets, apply Logistic Regression, and print the model accuracy"
   ]
  },
  {
   "cell_type": "code",
   "execution_count": null,
   "id": "94082efe",
   "metadata": {},
   "outputs": [],
   "source": [
    "\n",
    "import pandas as pd\n",
    "from sklearn.model_selection import train_test_split\n",
    "from sklearn.linear_model import LogisticRegression\n",
    "from sklearn.metrics import accuracy_score\n",
    "from sklearn.datasets import load_iris\n",
    "\n",
    "data = load_iris()\n",
    "X, y = data.data, data.target\n",
    "X_train, X_test, y_train, y_test = train_test_split(X, y, test_size=0.2, random_state=42)\n",
    "\n",
    "model = LogisticRegression()\n",
    "model.fit(X_train, y_train)\n",
    "y_pred = model.predict(X_test)\n",
    "\n",
    "accuracy_score(y_test, y_pred)\n"
   ]
  },
  {
   "cell_type": "markdown",
   "id": "30f0a696",
   "metadata": {},
   "source": [
    "### 2. Apply L1 regularization (Lasso) on a dataset using Logistic Regression and print model accuracy"
   ]
  },
  {
   "cell_type": "code",
   "execution_count": null,
   "id": "8a8fc257",
   "metadata": {},
   "outputs": [],
   "source": [
    "\n",
    "model = LogisticRegression(penalty='l1', solver='liblinear')\n",
    "model.fit(X_train, y_train)\n",
    "y_pred = model.predict(X_test)\n",
    "\n",
    "accuracy_score(y_test, y_pred)\n"
   ]
  },
  {
   "cell_type": "markdown",
   "id": "8791370d",
   "metadata": {},
   "source": [
    "### 3. Train Logistic Regression with L2 regularization (Ridge) and print model accuracy and coefficients"
   ]
  },
  {
   "cell_type": "code",
   "execution_count": null,
   "id": "ff691fdc",
   "metadata": {},
   "outputs": [],
   "source": [
    "\n",
    "model = LogisticRegression(penalty='l2', solver='liblinear')\n",
    "model.fit(X_train, y_train)\n",
    "y_pred = model.predict(X_test)\n",
    "\n",
    "accuracy_score(y_test, y_pred), model.coef_\n"
   ]
  },
  {
   "cell_type": "markdown",
   "id": "f918095d",
   "metadata": {},
   "source": [
    "### 4. Train Logistic Regression with Elastic Net Regularization"
   ]
  },
  {
   "cell_type": "code",
   "execution_count": null,
   "id": "37fc8b86",
   "metadata": {},
   "outputs": [],
   "source": [
    "\n",
    "model = LogisticRegression(penalty='elasticnet', solver='saga', l1_ratio=0.5)\n",
    "model.fit(X_train, y_train)\n",
    "y_pred = model.predict(X_test)\n",
    "\n",
    "accuracy_score(y_test, y_pred)\n"
   ]
  },
  {
   "cell_type": "markdown",
   "id": "4ce26956",
   "metadata": {},
   "source": [
    "### 5. Train a Logistic Regression model for multiclass classification using multi_class='ovr'"
   ]
  },
  {
   "cell_type": "code",
   "execution_count": null,
   "id": "4b739167",
   "metadata": {},
   "outputs": [],
   "source": [
    "\n",
    "model = LogisticRegression(multi_class='ovr', solver='liblinear')\n",
    "model.fit(X_train, y_train)\n",
    "y_pred = model.predict(X_test)\n",
    "\n",
    "accuracy_score(y_test, y_pred)\n"
   ]
  },
  {
   "cell_type": "markdown",
   "id": "581992cd",
   "metadata": {},
   "source": [
    "### 6. Apply GridSearchCV to tune hyperparameters (C, penalty) and print best parameters and accuracy"
   ]
  },
  {
   "cell_type": "code",
   "execution_count": null,
   "id": "773b2463",
   "metadata": {},
   "outputs": [],
   "source": [
    "\n",
    "from sklearn.model_selection import GridSearchCV\n",
    "\n",
    "param_grid = {'C': [0.1, 1, 10], 'penalty': ['l1', 'l2']}\n",
    "grid = GridSearchCV(LogisticRegression(solver='liblinear'), param_grid, cv=5)\n",
    "grid.fit(X_train, y_train)\n",
    "\n",
    "grid.best_params_, grid.best_score_\n"
   ]
  },
  {
   "cell_type": "markdown",
   "id": "2210cee4",
   "metadata": {},
   "source": [
    "### 7. Evaluate Logistic Regression using Stratified K-Fold Cross-Validation"
   ]
  },
  {
   "cell_type": "code",
   "execution_count": null,
   "id": "319e52dd",
   "metadata": {},
   "outputs": [],
   "source": [
    "\n",
    "from sklearn.model_selection import StratifiedKFold, cross_val_score\n",
    "\n",
    "cv = StratifiedKFold(n_splits=5)\n",
    "scores = cross_val_score(LogisticRegression(), X, y, cv=cv)\n",
    "\n",
    "scores.mean()\n"
   ]
  },
  {
   "cell_type": "markdown",
   "id": "ae90fd24",
   "metadata": {},
   "source": [
    "### 8. Load dataset from CSV, apply Logistic Regression, and evaluate accuracy"
   ]
  },
  {
   "cell_type": "code",
   "execution_count": null,
   "id": "2bd98aa5",
   "metadata": {},
   "outputs": [],
   "source": [
    "\n",
    "df = pd.read_csv('your_dataset.csv')\n",
    "X = df.iloc[:, :-1]\n",
    "y = df.iloc[:, -1]\n",
    "\n",
    "X_train, X_test, y_train, y_test = train_test_split(X, y, test_size=0.2, random_state=42)\n",
    "model = LogisticRegression()\n",
    "model.fit(X_train, y_train)\n",
    "y_pred = model.predict(X_test)\n",
    "\n",
    "accuracy_score(y_test, y_pred)\n"
   ]
  },
  {
   "cell_type": "markdown",
   "id": "7325aa5e",
   "metadata": {},
   "source": [
    "### 9. Apply RandomizedSearchCV for tuning hyperparameters (C, penalty, solver)"
   ]
  },
  {
   "cell_type": "code",
   "execution_count": null,
   "id": "5fbf40bd",
   "metadata": {},
   "outputs": [],
   "source": [
    "\n",
    "from sklearn.model_selection import RandomizedSearchCV\n",
    "\n",
    "param_dist = {'C': [0.1, 1, 10], 'penalty': ['l1', 'l2'], 'solver': ['liblinear', 'saga']}\n",
    "random_search = RandomizedSearchCV(LogisticRegression(), param_dist, cv=5, n_iter=5, random_state=42)\n",
    "random_search.fit(X_train, y_train)\n",
    "\n",
    "random_search.best_params_, random_search.best_score_\n"
   ]
  },
  {
   "cell_type": "markdown",
   "id": "7ff09a82",
   "metadata": {},
   "source": [
    "### 10. Implement One-vs-One (OvO) Multiclass Logistic Regression and print accuracy"
   ]
  },
  {
   "cell_type": "code",
   "execution_count": null,
   "id": "5fbf9d3e",
   "metadata": {},
   "outputs": [],
   "source": [
    "\n",
    "model = LogisticRegression(multi_class='ovo', solver='liblinear')\n",
    "model.fit(X_train, y_train)\n",
    "y_pred = model.predict(X_test)\n",
    "\n",
    "accuracy_score(y_test, y_pred)\n"
   ]
  },
  {
   "cell_type": "markdown",
   "id": "c3c1b82e",
   "metadata": {},
   "source": [
    "### 11. Train Logistic Regression and visualize the confusion matrix"
   ]
  },
  {
   "cell_type": "code",
   "execution_count": null,
   "id": "dabe92c1",
   "metadata": {},
   "outputs": [],
   "source": [
    "\n",
    "import matplotlib.pyplot as plt\n",
    "from sklearn.metrics import confusion_matrix\n",
    "import seaborn as sns\n",
    "\n",
    "model = LogisticRegression()\n",
    "model.fit(X_train, y_train)\n",
    "y_pred = model.predict(X_test)\n",
    "\n",
    "cm = confusion_matrix(y_test, y_pred)\n",
    "sns.heatmap(cm, annot=True, fmt='d')\n",
    "plt.show()\n"
   ]
  },
  {
   "cell_type": "markdown",
   "id": "8b94e8d9",
   "metadata": {},
   "source": [
    "### 12. Train Logistic Regression and evaluate Precision, Recall, and F1-Score"
   ]
  },
  {
   "cell_type": "code",
   "execution_count": null,
   "id": "a4bd8620",
   "metadata": {},
   "outputs": [],
   "source": [
    "\n",
    "from sklearn.metrics import precision_score, recall_score, f1_score\n",
    "\n",
    "precision_score(y_test, y_pred, average='weighted'), recall_score(y_test, y_pred, average='weighted'), f1_score(y_test, y_pred, average='weighted')\n"
   ]
  },
  {
   "cell_type": "markdown",
   "id": "c625feb5",
   "metadata": {},
   "source": [
    "### 13. Train Logistic Regression on imbalanced data and apply class weights"
   ]
  },
  {
   "cell_type": "code",
   "execution_count": null,
   "id": "d5f3c7c4",
   "metadata": {},
   "outputs": [],
   "source": [
    "\n",
    "model = LogisticRegression(class_weight='balanced')\n",
    "model.fit(X_train, y_train)\n",
    "y_pred = model.predict(X_test)\n",
    "\n",
    "accuracy_score(y_test, y_pred)\n"
   ]
  },
  {
   "cell_type": "markdown",
   "id": "ffb8abd9",
   "metadata": {},
   "source": [
    "### 14. Train Logistic Regression on Titanic dataset, handle missing values, and evaluate performance"
   ]
  },
  {
   "cell_type": "code",
   "execution_count": null,
   "id": "05a9d980",
   "metadata": {},
   "outputs": [],
   "source": [
    "\n",
    "df = pd.read_csv('titanic.csv')\n",
    "df.fillna(df.mean(), inplace=True)\n",
    "X = df[['Pclass', 'Age', 'SibSp', 'Parch']]\n",
    "y = df['Survived']\n",
    "\n",
    "X_train, X_test, y_train, y_test = train_test_split(X, y, test_size=0.2, random_state=42)\n",
    "model = LogisticRegression()\n",
    "model.fit(X_train, y_train)\n",
    "y_pred = model.predict(X_test)\n",
    "\n",
    "accuracy_score(y_test, y_pred)\n"
   ]
  },
  {
   "cell_type": "markdown",
   "id": "3ff21cd2",
   "metadata": {},
   "source": [
    "### 15. Apply feature scaling (Standardization) before training Logistic Regression"
   ]
  },
  {
   "cell_type": "code",
   "execution_count": null,
   "id": "a0971ea2",
   "metadata": {},
   "outputs": [],
   "source": [
    "\n",
    "from sklearn.preprocessing import StandardScaler\n",
    "\n",
    "scaler = StandardScaler()\n",
    "X_train_scaled = scaler.fit_transform(X_train)\n",
    "X_test_scaled = scaler.transform(X_test)\n",
    "\n",
    "model = LogisticRegression()\n",
    "model.fit(X_train_scaled, y_train)\n",
    "y_pred = model.predict(X_test_scaled)\n",
    "\n",
    "accuracy_score(y_test, y_pred)\n"
   ]
  },
  {
   "cell_type": "markdown",
   "id": "d9173f36",
   "metadata": {},
   "source": [
    "### 16. Evaluate Logistic Regression using ROC-AUC score"
   ]
  },
  {
   "cell_type": "code",
   "execution_count": null,
   "id": "1987bd93",
   "metadata": {},
   "outputs": [],
   "source": [
    "\n",
    "from sklearn.metrics import roc_auc_score\n",
    "\n",
    "roc_auc_score(y_test, model.predict_proba(X_test_scaled)[:, 1])\n"
   ]
  },
  {
   "cell_type": "markdown",
   "id": "23bcf353",
   "metadata": {},
   "source": [
    "### 17. Train Logistic Regression with a custom learning rate (C=0.5) and evaluate accuracy"
   ]
  },
  {
   "cell_type": "code",
   "execution_count": null,
   "id": "c3a34c38",
   "metadata": {},
   "outputs": [],
   "source": [
    "\n",
    "model = LogisticRegression(C=0.5)\n",
    "model.fit(X_train, y_train)\n",
    "y_pred = model.predict(X_test)\n",
    "\n",
    "accuracy_score(y_test, y_pred)\n"
   ]
  },
  {
   "cell_type": "markdown",
   "id": "e6d3f006",
   "metadata": {},
   "source": [
    "### 18. Identify important features based on model coefficients"
   ]
  },
  {
   "cell_type": "code",
   "execution_count": null,
   "id": "9a967ce4",
   "metadata": {},
   "outputs": [],
   "source": [
    "\n",
    "importance = model.coef_\n",
    "importance\n"
   ]
  },
  {
   "cell_type": "markdown",
   "id": "964a8e2b",
   "metadata": {},
   "source": [
    "### 19. Evaluate Logistic Regression using Cohen’s Kappa Score"
   ]
  },
  {
   "cell_type": "code",
   "execution_count": null,
   "id": "5e4a9151",
   "metadata": {},
   "outputs": [],
   "source": [
    "\n",
    "from sklearn.metrics import cohen_kappa_score\n",
    "\n",
    "cohen_kappa_score(y_test, y_pred)\n"
   ]
  },
  {
   "cell_type": "markdown",
   "id": "2c2c586d",
   "metadata": {},
   "source": [
    "### 20. Visualize Precision-Recall Curve for Logistic Regression"
   ]
  },
  {
   "cell_type": "code",
   "execution_count": null,
   "id": "7d4986d6",
   "metadata": {},
   "outputs": [],
   "source": [
    "\n",
    "from sklearn.metrics import precision_recall_curve\n",
    "import matplotlib.pyplot as plt\n",
    "\n",
    "precision, recall, _ = precision_recall_curve(y_test, model.predict_proba(X_test)[:, 1])\n",
    "plt.plot(recall, precision, marker='.')\n",
    "plt.xlabel('Recall')\n",
    "plt.ylabel('Precision')\n",
    "plt.show()\n"
   ]
  },
  {
   "cell_type": "markdown",
   "id": "61b6524c",
   "metadata": {},
   "source": [
    "### 21. Train Logistic Regression with different solvers (liblinear, saga, lbfgs) and compare their accuracy"
   ]
  },
  {
   "cell_type": "code",
   "execution_count": null,
   "id": "31a8dfc6",
   "metadata": {},
   "outputs": [],
   "source": [
    "\n",
    "solvers = ['liblinear', 'saga', 'lbfgs']\n",
    "accuracies = {}\n",
    "for solver in solvers:\n",
    "    model = LogisticRegression(solver=solver, max_iter=5000)\n",
    "    model.fit(X_train, y_train)\n",
    "    y_pred = model.predict(X_test)\n",
    "    accuracies[solver] = accuracy_score(y_test, y_pred)\n",
    "accuracies\n"
   ]
  },
  {
   "cell_type": "markdown",
   "id": "6ddc6196",
   "metadata": {},
   "source": [
    "### 22. Evaluate Logistic Regression using Matthews Correlation Coefficient (MCC)"
   ]
  },
  {
   "cell_type": "code",
   "execution_count": null,
   "id": "5c5a6725",
   "metadata": {},
   "outputs": [],
   "source": [
    "\n",
    "from sklearn.metrics import matthews_corrcoef\n",
    "\n",
    "matthews_corrcoef(y_test, y_pred)\n"
   ]
  },
  {
   "cell_type": "markdown",
   "id": "24444d7b",
   "metadata": {},
   "source": [
    "### 23. Train Logistic Regression on both raw and standardized data. Compare accuracy"
   ]
  },
  {
   "cell_type": "code",
   "execution_count": null,
   "id": "3f6a6431",
   "metadata": {},
   "outputs": [],
   "source": [
    "\n",
    "model_raw = LogisticRegression()\n",
    "model_raw.fit(X_train, y_train)\n",
    "accuracy_raw = accuracy_score(y_test, model_raw.predict(X_test))\n",
    "\n",
    "model_scaled = LogisticRegression()\n",
    "model_scaled.fit(X_train_scaled, y_train)\n",
    "accuracy_scaled = accuracy_score(y_test, model_scaled.predict(X_test_scaled))\n",
    "\n",
    "accuracy_raw, accuracy_scaled\n"
   ]
  },
  {
   "cell_type": "markdown",
   "id": "41055f43",
   "metadata": {},
   "source": [
    "### 24. Find the optimal C (regularization strength) using cross-validation"
   ]
  },
  {
   "cell_type": "code",
   "execution_count": null,
   "id": "e8d66df2",
   "metadata": {},
   "outputs": [],
   "source": [
    "\n",
    "from sklearn.model_selection import cross_val_score\n",
    "\n",
    "C_values = [0.01, 0.1, 1, 10, 100]\n",
    "best_C = None\n",
    "best_score = 0\n",
    "\n",
    "for C in C_values:\n",
    "    model = LogisticRegression(C=C)\n",
    "    scores = cross_val_score(model, X, y, cv=5)\n",
    "    avg_score = scores.mean()\n",
    "    if avg_score > best_score:\n",
    "        best_C = C\n",
    "        best_score = avg_score\n",
    "\n",
    "best_C, best_score\n"
   ]
  },
  {
   "cell_type": "markdown",
   "id": "4cc03fd8",
   "metadata": {},
   "source": [
    "### 25. Train Logistic Regression, save the trained model using joblib, and load it again to make predictions"
   ]
  },
  {
   "cell_type": "code",
   "execution_count": null,
   "id": "ebbe8373",
   "metadata": {},
   "outputs": [],
   "source": [
    "\n",
    "import joblib\n",
    "\n",
    "model = LogisticRegression()\n",
    "model.fit(X_train, y_train)\n",
    "\n",
    "joblib.dump(model, 'logistic_model.pkl')\n",
    "loaded_model = joblib.load('logistic_model.pkl')\n",
    "accuracy_score(y_test, loaded_model.predict(X_test))\n"
   ]
  }
 ],
 "metadata": {},
 "nbformat": 4,
 "nbformat_minor": 5
}
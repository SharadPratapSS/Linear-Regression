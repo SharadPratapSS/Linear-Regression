{
 "cells": [
  {
   "cell_type": "markdown",
   "id": "1b72b85a",
   "metadata": {},
   "source": [
    "### 1. Load a dataset, split it, apply Logistic Regression, and print accuracy"
   ]
  },
  {
   "cell_type": "code",
   "execution_count": null,
   "id": "deec72f7",
   "metadata": {},
   "outputs": [],
   "source": [
    "\n",
    "import pandas as pd\n",
    "from sklearn.model_selection import train_test_split\n",
    "from sklearn.linear_model import LogisticRegression\n",
    "from sklearn.metrics import accuracy_score\n",
    "from sklearn.datasets import load_iris\n",
    "\n",
    "data = load_iris()\n",
    "X, y = data.data, data.target\n",
    "X_train, X_test, y_train, y_test = train_test_split(X, y, test_size=0.2, random_state=42)\n",
    "\n",
    "model = LogisticRegression()\n",
    "model.fit(X_train, y_train)\n",
    "y_pred = model.predict(X_test)\n",
    "\n",
    "accuracy = accuracy_score(y_test, y_pred)\n",
    "accuracy\n"
   ]
  },
  {
   "cell_type": "markdown",
   "id": "f74af0bb",
   "metadata": {},
   "source": [
    "### 2. Apply L1 regularization (Lasso) on a dataset using Logistic Regression and print accuracy"
   ]
  },
  {
   "cell_type": "code",
   "execution_count": null,
   "id": "00dac245",
   "metadata": {},
   "outputs": [],
   "source": [
    "\n",
    "from sklearn.linear_model import LogisticRegression\n",
    "\n",
    "model = LogisticRegression(penalty='l1', solver='liblinear')\n",
    "model.fit(X_train, y_train)\n",
    "y_pred = model.predict(X_test)\n",
    "\n",
    "accuracy_score(y_test, y_pred)\n"
   ]
  },
  {
   "cell_type": "markdown",
   "id": "df553e0d",
   "metadata": {},
   "source": [
    "### 3. Train Logistic Regression with L2 regularization (Ridge) and print accuracy and coefficients"
   ]
  },
  {
   "cell_type": "code",
   "execution_count": null,
   "id": "244aba8b",
   "metadata": {},
   "outputs": [],
   "source": [
    "\n",
    "model = LogisticRegression(penalty='l2', solver='liblinear')\n",
    "model.fit(X_train, y_train)\n",
    "y_pred = model.predict(X_test)\n",
    "\n",
    "accuracy_score(y_test, y_pred), model.coef_\n"
   ]
  },
  {
   "cell_type": "markdown",
   "id": "1cb7c679",
   "metadata": {},
   "source": [
    "### 4. Train Logistic Regression with Elastic Net Regularization"
   ]
  },
  {
   "cell_type": "code",
   "execution_count": null,
   "id": "0b559789",
   "metadata": {},
   "outputs": [],
   "source": [
    "\n",
    "model = LogisticRegression(penalty='elasticnet', solver='saga', l1_ratio=0.5)\n",
    "model.fit(X_train, y_train)\n",
    "y_pred = model.predict(X_test)\n",
    "\n",
    "accuracy_score(y_test, y_pred)\n"
   ]
  },
  {
   "cell_type": "markdown",
   "id": "6256abe7",
   "metadata": {},
   "source": [
    "### 5. Train a Logistic Regression model for multiclass classification using multi_class='ovr'"
   ]
  },
  {
   "cell_type": "code",
   "execution_count": null,
   "id": "4c746d11",
   "metadata": {},
   "outputs": [],
   "source": [
    "\n",
    "model = LogisticRegression(multi_class='ovr', solver='liblinear')\n",
    "model.fit(X_train, y_train)\n",
    "y_pred = model.predict(X_test)\n",
    "\n",
    "accuracy_score(y_test, y_pred)\n"
   ]
  },
  {
   "cell_type": "markdown",
   "id": "eae23f5f",
   "metadata": {},
   "source": [
    "### 6. Apply GridSearchCV to tune hyperparameters (C, penalty) and print best parameters and accuracy"
   ]
  },
  {
   "cell_type": "code",
   "execution_count": null,
   "id": "c523c22f",
   "metadata": {},
   "outputs": [],
   "source": [
    "\n",
    "from sklearn.model_selection import GridSearchCV\n",
    "\n",
    "param_grid = {'C': [0.1, 1, 10], 'penalty': ['l1', 'l2']}\n",
    "grid = GridSearchCV(LogisticRegression(solver='liblinear'), param_grid, cv=5)\n",
    "grid.fit(X_train, y_train)\n",
    "\n",
    "grid.best_params_, grid.best_score_\n"
   ]
  },
  {
   "cell_type": "markdown",
   "id": "52969766",
   "metadata": {},
   "source": [
    "### 7. Evaluate Logistic Regression using Stratified K-Fold Cross-Validation"
   ]
  },
  {
   "cell_type": "code",
   "execution_count": null,
   "id": "74378eea",
   "metadata": {},
   "outputs": [],
   "source": [
    "\n",
    "from sklearn.model_selection import StratifiedKFold, cross_val_score\n",
    "\n",
    "cv = StratifiedKFold(n_splits=5)\n",
    "scores = cross_val_score(LogisticRegression(), X, y, cv=cv)\n",
    "\n",
    "scores.mean()\n"
   ]
  },
  {
   "cell_type": "markdown",
   "id": "f692ffb5",
   "metadata": {},
   "source": [
    "### 8. Load dataset from CSV, apply Logistic Regression, and evaluate accuracy"
   ]
  },
  {
   "cell_type": "code",
   "execution_count": null,
   "id": "693636d2",
   "metadata": {},
   "outputs": [],
   "source": [
    "\n",
    "df = pd.read_csv('your_dataset.csv')\n",
    "X = df.iloc[:, :-1]\n",
    "y = df.iloc[:, -1]\n",
    "\n",
    "X_train, X_test, y_train, y_test = train_test_split(X, y, test_size=0.2, random_state=42)\n",
    "model = LogisticRegression()\n",
    "model.fit(X_train, y_train)\n",
    "y_pred = model.predict(X_test)\n",
    "\n",
    "accuracy_score(y_test, y_pred)\n"
   ]
  },
  {
   "cell_type": "markdown",
   "id": "f1e0a4e5",
   "metadata": {},
   "source": [
    "### 9. Apply RandomizedSearchCV for tuning hyperparameters (C, penalty, solver)"
   ]
  },
  {
   "cell_type": "code",
   "execution_count": null,
   "id": "ef5102d1",
   "metadata": {},
   "outputs": [],
   "source": [
    "\n",
    "from sklearn.model_selection import RandomizedSearchCV\n",
    "\n",
    "param_dist = {'C': [0.1, 1, 10], 'penalty': ['l1', 'l2'], 'solver': ['liblinear', 'saga']}\n",
    "random_search = RandomizedSearchCV(LogisticRegression(), param_dist, cv=5, n_iter=5, random_state=42)\n",
    "random_search.fit(X_train, y_train)\n",
    "\n",
    "random_search.best_params_, random_search.best_score_\n"
   ]
  },
  {
   "cell_type": "markdown",
   "id": "9ae9b46a",
   "metadata": {},
   "source": [
    "### 10. Implement One-vs-One (OvO) Multiclass Logistic Regression and print accuracy"
   ]
  },
  {
   "cell_type": "code",
   "execution_count": null,
   "id": "8c0086aa",
   "metadata": {},
   "outputs": [],
   "source": [
    "\n",
    "model = LogisticRegression(multi_class='ovo', solver='liblinear')\n",
    "model.fit(X_train, y_train)\n",
    "y_pred = model.predict(X_test)\n",
    "\n",
    "accuracy_score(y_test, y_pred)\n"
   ]
  },
  {
   "cell_type": "markdown",
   "id": "dbc409eb",
   "metadata": {},
   "source": [
    "### 11. Train Logistic Regression and visualize the confusion matrix"
   ]
  },
  {
   "cell_type": "code",
   "execution_count": null,
   "id": "41078b6f",
   "metadata": {},
   "outputs": [],
   "source": [
    "\n",
    "import matplotlib.pyplot as plt\n",
    "from sklearn.metrics import confusion_matrix\n",
    "import seaborn as sns\n",
    "\n",
    "model = LogisticRegression()\n",
    "model.fit(X_train, y_train)\n",
    "y_pred = model.predict(X_test)\n",
    "\n",
    "cm = confusion_matrix(y_test, y_pred)\n",
    "sns.heatmap(cm, annot=True, fmt='d')\n",
    "plt.show()\n"
   ]
  },
  {
   "cell_type": "markdown",
   "id": "066c7abd",
   "metadata": {},
   "source": [
    "### 12. Train Logistic Regression and evaluate Precision, Recall, and F1-Score"
   ]
  },
  {
   "cell_type": "code",
   "execution_count": null,
   "id": "334bbb00",
   "metadata": {},
   "outputs": [],
   "source": [
    "\n",
    "from sklearn.metrics import precision_score, recall_score, f1_score\n",
    "\n",
    "precision_score(y_test, y_pred, average='weighted'), recall_score(y_test, y_pred, average='weighted'), f1_score(y_test, y_pred, average='weighted')\n"
   ]
  },
  {
   "cell_type": "markdown",
   "id": "afab006f",
   "metadata": {},
   "source": [
    "### 13. Train Logistic Regression on imbalanced data and apply class weights"
   ]
  },
  {
   "cell_type": "code",
   "execution_count": null,
   "id": "2e5a8d1b",
   "metadata": {},
   "outputs": [],
   "source": [
    "\n",
    "model = LogisticRegression(class_weight='balanced')\n",
    "model.fit(X_train, y_train)\n",
    "y_pred = model.predict(X_test)\n",
    "\n",
    "accuracy_score(y_test, y_pred)\n"
   ]
  },
  {
   "cell_type": "markdown",
   "id": "d60abcf1",
   "metadata": {},
   "source": [
    "### 14. Train Logistic Regression on Titanic dataset, handle missing values, and evaluate performance"
   ]
  },
  {
   "cell_type": "code",
   "execution_count": null,
   "id": "909789d5",
   "metadata": {},
   "outputs": [],
   "source": [
    "\n",
    "df = pd.read_csv('titanic.csv')\n",
    "df.fillna(df.mean(), inplace=True)\n",
    "X = df[['Pclass', 'Age', 'SibSp', 'Parch']]\n",
    "y = df['Survived']\n",
    "\n",
    "X_train, X_test, y_train, y_test = train_test_split(X, y, test_size=0.2, random_state=42)\n",
    "model = LogisticRegression()\n",
    "model.fit(X_train, y_train)\n",
    "y_pred = model.predict(X_test)\n",
    "\n",
    "accuracy_score(y_test, y_pred)\n"
   ]
  }
 ],
 "metadata": {},
 "nbformat": 4,
 "nbformat_minor": 5
}